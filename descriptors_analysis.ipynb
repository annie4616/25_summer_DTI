{
 "cells": [
  {
   "cell_type": "markdown",
   "id": "b5ab6f03",
   "metadata": {},
   "source": [
    "### 분자와 타겟 속성을 추출해 중요성 분석"
   ]
  },
  {
   "cell_type": "code",
   "execution_count": 6,
   "id": "4a9d2190",
   "metadata": {},
   "outputs": [],
   "source": [
    "import pandas as pd\n",
    "from rdkit import Chem\n",
    "from rdkit.ML.Descriptors import MoleculeDescriptors\n",
    "from rdkit.Chem import Descriptors\n",
    "import numpy as np\n",
    "from sklearn.linear_model import LinearRegression\n",
    "import matplotlib.pyplot as plt\n",
    "import seaborn as sns\n",
    "from tdc.multi_pred import DTI"
   ]
  },
  {
   "cell_type": "code",
   "execution_count": 7,
   "id": "ccdf2925",
   "metadata": {},
   "outputs": [
    {
     "name": "stderr",
     "output_type": "stream",
     "text": [
      "Found local copy...\n",
      "Loading...\n",
      "Done!\n"
     ]
    }
   ],
   "source": [
    "kiba = DTI(name = 'KIBA')"
   ]
  },
  {
   "cell_type": "code",
   "execution_count": 8,
   "id": "fc6aa220",
   "metadata": {},
   "outputs": [],
   "source": [
    "kiba = pd.DataFrame(kiba.get_data())"
   ]
  },
  {
   "cell_type": "code",
   "execution_count": 9,
   "id": "dbbf7695",
   "metadata": {},
   "outputs": [
    {
     "name": "stdout",
     "output_type": "stream",
     "text": [
      "affinity와 상관관계가 높은 descriptor TOP 10\n",
      "Y                   1.000000\n",
      "EState_VSA8         0.126094\n",
      "NumAromaticRings    0.124631\n",
      "EState_VSA4         0.124207\n",
      "PEOE_VSA8           0.123321\n",
      "RingCount           0.119982\n",
      "MolLogP             0.118929\n",
      "fr_aniline          0.111995\n",
      "fr_NH1              0.111188\n",
      "VSA_EState4         0.104603\n",
      "Name: Y, dtype: float64\n"
     ]
    }
   ],
   "source": [
    "# 2. RDKit descriptor 추출기 준비\n",
    "descriptor_names = [desc[0] for desc in Descriptors._descList]\n",
    "calc = MoleculeDescriptors.MolecularDescriptorCalculator(descriptor_names)\n",
    "\n",
    "def mol_descriptors(smiles):\n",
    "    mol = Chem.MolFromSmiles(smiles)\n",
    "    if mol is None:\n",
    "        return [np.nan] * len(descriptor_names)\n",
    "    return list(calc.CalcDescriptors(mol))\n",
    "\n",
    "# 3. 각 Drug에 대해 descriptor 계산\n",
    "desc_df = kiba['Drug'].drop_duplicates().to_frame()\n",
    "desc_df['descriptors'] = desc_df['Drug'].apply(mol_descriptors)\n",
    "\n",
    "# descriptors 컬럼을 개별 피처로 분리\n",
    "desc_features = pd.DataFrame(desc_df['descriptors'].tolist(), \n",
    "                             columns=descriptor_names, \n",
    "                             index=desc_df['Drug'])\n",
    "\n",
    "# 원본 데이터에 병합\n",
    "merged = kiba.merge(desc_features, left_on='Drug', right_index=True)\n",
    "\n",
    "# 4. 결측치 제거\n",
    "merged = merged.dropna()\n",
    "\n",
    "# 5. 상관관계 분석\n",
    "corr = merged[descriptor_names + ['Y']].corr()['Y'].sort_values(ascending=False)\n",
    "\n",
    "print(\"affinity와 상관관계가 높은 descriptor TOP 10\")\n",
    "print(corr.head(10))\n",
    "\n",
    "# # 6. 시각화 (상관계수 상위 5개만)\n",
    "# top5 = corr.index[1:6]  # affinity 제외하고 상위 5개\n",
    "# sns.pairplot(merged, vars=top5, y_vars=['affinity'], kind=\"reg\")\n",
    "# plt.show()"
   ]
  },
  {
   "cell_type": "code",
   "execution_count": null,
   "id": "ec5c8673",
   "metadata": {},
   "outputs": [],
   "source": []
  }
 ],
 "metadata": {
  "kernelspec": {
   "display_name": "vm",
   "language": "python",
   "name": "python3"
  },
  "language_info": {
   "codemirror_mode": {
    "name": "ipython",
    "version": 3
   },
   "file_extension": ".py",
   "mimetype": "text/x-python",
   "name": "python",
   "nbconvert_exporter": "python",
   "pygments_lexer": "ipython3",
   "version": "3.8.10"
  }
 },
 "nbformat": 4,
 "nbformat_minor": 5
}
