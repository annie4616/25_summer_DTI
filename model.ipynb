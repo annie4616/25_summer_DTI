{
 "cells": [
  {
   "cell_type": "markdown",
   "id": "0695227c",
   "metadata": {},
   "source": [
    "### Creating Real Model from Scratch"
   ]
  },
  {
   "cell_type": "markdown",
   "id": "85d0dc82",
   "metadata": {},
   "source": [
    "- 목표:  \n",
    "Molecule: 2D GNN  \n",
    "Protein: Huggingface Pretrained Model"
   ]
  },
  {
   "cell_type": "code",
   "execution_count": null,
   "id": "69f01fe7",
   "metadata": {},
   "outputs": [],
   "source": [
    "import numpy as np\n",
    "import pandas as pd"
   ]
  }
 ],
 "metadata": {
  "kernelspec": {
   "display_name": "vm",
   "language": "python",
   "name": "python3"
  },
  "language_info": {
   "name": "python",
   "version": "3.8.10"
  }
 },
 "nbformat": 4,
 "nbformat_minor": 5
}
